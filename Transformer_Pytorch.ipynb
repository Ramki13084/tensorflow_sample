{
  "nbformat": 4,
  "nbformat_minor": 0,
  "metadata": {
    "colab": {
      "name": "Untitled4.ipynb",
      "provenance": [],
      "authorship_tag": "ABX9TyM7AxrluOtLXXRElSttcm8W",
      "include_colab_link": true
    },
    "kernelspec": {
      "name": "python3",
      "display_name": "Python 3"
    },
    "language_info": {
      "name": "python"
    }
  },
  "cells": [
    {
      "cell_type": "markdown",
      "metadata": {
        "id": "view-in-github",
        "colab_type": "text"
      },
      "source": [
        "<a href=\"https://colab.research.google.com/github/Ramki13084/tensorflow_sample/blob/main/Transformer_Pytorch.ipynb\" target=\"_parent\"><img src=\"https://colab.research.google.com/assets/colab-badge.svg\" alt=\"Open In Colab\"/></a>"
      ]
    },
    {
      "cell_type": "code",
      "metadata": {
        "id": "a3xznRUQnIzN"
      },
      "source": [
        "import torch\n",
        "import torch.nn as nn"
      ],
      "execution_count": 1,
      "outputs": []
    },
    {
      "cell_type": "code",
      "metadata": {
        "id": "GLtgl4j6yjZP"
      },
      "source": [
        "class SelfAttention(nn.Module):\n",
        "      def __init__(self,embed_size,heads):\n",
        "          super(SelfAttention,self).__init__()\n",
        "          self.embed_size=embed_size\n",
        "          self.heads = heads\n",
        "          self.head_dim = embed_size//heads\n",
        "          assert(self.head_dim*self.heads ==self.embed_size)\n",
        "          self.values = nn.Linear(self.head_dim,self.head_dim,bias=False)\n",
        "          self.keys = nn.Linear(self.head_dim,self.head_dim,bias=False)\n",
        "          self.queries = nn.Linear(self.head_dim,self.head_dim,bias=False)\n",
        "          self.fc_out =  nn.Linear(heads*self.head_dim,embed_size)\n",
        "      def forward(self,values,keys,queries,mask):\n",
        "          N = query.shape[0]\n",
        "          value_len,key_len,query_len = values.shape[1],keys.shape[1],query.shape[1]  "
      ],
      "execution_count": 2,
      "outputs": []
    },
    {
      "cell_type": "code",
      "metadata": {
        "id": "JSeaUdiNyjfY"
      },
      "source": [
        ""
      ],
      "execution_count": null,
      "outputs": []
    },
    {
      "cell_type": "code",
      "metadata": {
        "id": "q-tcmF2LyjlW"
      },
      "source": [
        ""
      ],
      "execution_count": null,
      "outputs": []
    },
    {
      "cell_type": "code",
      "metadata": {
        "id": "R9cJPRlgyjqh"
      },
      "source": [
        ""
      ],
      "execution_count": null,
      "outputs": []
    },
    {
      "cell_type": "code",
      "metadata": {
        "id": "hnKauNpwyjvK"
      },
      "source": [
        ""
      ],
      "execution_count": null,
      "outputs": []
    },
    {
      "cell_type": "code",
      "metadata": {
        "id": "Xgck2jIAyjzY"
      },
      "source": [
        ""
      ],
      "execution_count": null,
      "outputs": []
    },
    {
      "cell_type": "code",
      "metadata": {
        "id": "Pbcp2ubVyj3b"
      },
      "source": [
        ""
      ],
      "execution_count": null,
      "outputs": []
    },
    {
      "cell_type": "code",
      "metadata": {
        "id": "gygGIN04yj7i"
      },
      "source": [
        ""
      ],
      "execution_count": null,
      "outputs": []
    },
    {
      "cell_type": "code",
      "metadata": {
        "id": "1Ry9txQuyj_F"
      },
      "source": [
        ""
      ],
      "execution_count": null,
      "outputs": []
    },
    {
      "cell_type": "code",
      "metadata": {
        "id": "sjLy9tBWykDj"
      },
      "source": [
        ""
      ],
      "execution_count": null,
      "outputs": []
    }
  ]
}