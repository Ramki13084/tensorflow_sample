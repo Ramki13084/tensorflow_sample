{
  "nbformat": 4,
  "nbformat_minor": 0,
  "metadata": {
    "colab": {
      "name": "Untitled4.ipynb",
      "provenance": [],
      "authorship_tag": "ABX9TyPMHkgxbtOLTzN2f2OSXjf0",
      "include_colab_link": true
    },
    "kernelspec": {
      "name": "python3",
      "display_name": "Python 3"
    },
    "language_info": {
      "name": "python"
    }
  },
  "cells": [
    {
      "cell_type": "markdown",
      "metadata": {
        "id": "view-in-github",
        "colab_type": "text"
      },
      "source": [
        "<a href=\"https://colab.research.google.com/github/Ramki13084/tensorflow_sample/blob/main/Transformer_Pytorch.ipynb\" target=\"_parent\"><img src=\"https://colab.research.google.com/assets/colab-badge.svg\" alt=\"Open In Colab\"/></a>"
      ]
    },
    {
      "cell_type": "code",
      "metadata": {
        "id": "a3xznRUQnIzN"
      },
      "source": [
        "import torch\n",
        "import torch.nn as nn"
      ],
      "execution_count": 1,
      "outputs": []
    },
    {
      "cell_type": "code",
      "metadata": {
        "id": "GLtgl4j6yjZP"
      },
      "source": [
        "class SelfAttention(nn.Module):\n",
        "      def __init__(self,embed_size,heads):\n",
        "          super(SelfAttention,self).__init__()\n",
        "          self.embed_size=embed_size\n",
        "          self.heads = heads\n",
        "          self.head_dim = embed_size//heads\n",
        "          assert(self.head_dim*self.heads ==self.embed_size)\n",
        "          self.values = nn.Linear(self.head_dim,self.head_dim,bias=False)\n",
        "          self.keys = nn.Linear(self.head_dim,self.head_dim,bias=False)\n",
        "          self.queries = nn.Linear(self.head_dim,self.head_dim,bias=False)\n",
        "          self.fc_out =  nn.Linear(heads*self.head_dim,embed_size)\n",
        "      def forward(self,values,keys,queries,mask):\n",
        "          N = query.shape[0]\n",
        "          value_len,key_len,query_len = values.shape[1],keys.shape[1],query.shape[1]  \n",
        "\n",
        "          values = values.reshape(N,value_len,self.heads,self.head_dim)\n",
        "          keys = keys.reshape(N,key_len,self.heads,self.head_dim)\n",
        "          queries = queries.reshape(N,query_len,self.heads,self.head_dim)\n",
        "          \n",
        "          energy = torch.einsum(\"nqhd,nkhd->nhqk\",[queries,keys])\n",
        "          # queries -> N, query_len, heads, head_dims\n",
        "          # keys -> N,key_len,heads,head_dims\n",
        "          # energy -> N,heads,query_len,key_len\n",
        "          if mask is not None:\n",
        "              energy = energy.masked.fill(mask == 0 ,float(\"-1e20\"))\n",
        "          attention = torch.softmax(energy/(self.embed_size**0.5),dim=3)\n",
        "          out = torch.einsum(\"nhql,nlhd->nqhd\",[attention,values]).reshape(N,query_len,self.heads*self.head_dims)\n",
        "          # attention shape = N, heads,query_len,key_len\n",
        "          # value shape = N, value_len,heads,head_dims\n",
        "          # output shape = N, query_len, heads, head_dims\n",
        "          out = self.fc_out(out)\n",
        "          # maps the out embed size.\n",
        "          return out\n"
      ],
      "execution_count": 2,
      "outputs": []
    },
    {
      "cell_type": "code",
      "metadata": {
        "id": "JSeaUdiNyjfY"
      },
      "source": [
        "class TransformerBlock(nn.Module):\n",
        "        def __init__(self,embed_size,heads,dropout,forward_expansion):\n",
        "              super(TransformerBlock,self).__init__()\n",
        "              self.attention = SelfAttention(embed_size,heads)\n",
        "              self.norm1 = nn.LayerNorm(embed_size)\n",
        "              self.norm2 = nn.LayerNorm(embed_size)\n",
        "              self.feed_forward = nn.Sequential(\n",
        "                  nn.Linear(embed_size,forward_expansion*embed_size),\n",
        "                  nn.ReLU(),\n",
        "                  nn.Linear(forward_expansion*embed_size,embed_size)\n",
        "              )\n",
        "\n",
        "              self.dropout = nn.Dropout(dropout)\n",
        "        def forward(self,value,key,query,mask):\n",
        "              attention = self.attention(value,key,query,mask)\n",
        "              x = self.dropout(self.norm1(attention + query)) \n",
        "              forward = self.feed_forward(x)\n",
        "              out = self.dropout(self.norm2(forward + x))\n",
        "              return out"
      ],
      "execution_count": 3,
      "outputs": []
    },
    {
      "cell_type": "code",
      "metadata": {
        "id": "q-tcmF2LyjlW"
      },
      "source": [
        "class Encoder(nn.Module):\n",
        "        def __init__(self,\n",
        "                     src_vocab_size,\n",
        "                     embed_size,\n",
        "                     num_layers,\n",
        "                     heads,device,\n",
        "                     forward_expansion,\n",
        "                     dropout,\n",
        "                     max_length):\n",
        "            super(Encoder,self).__init__()\n",
        "            self.embed_size = embed_size\n",
        "            self.device = device\n",
        "            self.word_embedding = nn.Embedding(src_vocab_size,embed_size)\n",
        "            self.position_embedding = nn.Embedding(max_length,embed_size)\n",
        "\n",
        "            self.layers = nn.ModuleList(\n",
        "                [\n",
        "                 TransformerBlock(\n",
        "                     embed_size,\n",
        "                     heads,\n",
        "                     dropout = dropout,\n",
        "                     forward_expansion = forward_expansion\n",
        "                 )\n",
        "                ]\n",
        "            )\n",
        "            self.dropout = nn.Dropout(dropout)\n",
        "\n",
        "        def forward(self,x):\n",
        "            N, seq_len = x.shape\n",
        "            positions = torch.arange(0,seq_length).expand(N,seq_len).to(self.device)\n",
        "            out = self.dropout(self.word_embedding(x) + self.position_embedding(positions))\n",
        "            \n",
        "            for layer in self.layers:\n",
        "                  out = layer(out,out,out,mask)\n",
        "            \n",
        "            return out\n"
      ],
      "execution_count": 4,
      "outputs": []
    },
    {
      "cell_type": "code",
      "metadata": {
        "id": "R9cJPRlgyjqh"
      },
      "source": [
        "class DecoderBlock(nn.Module):\n",
        "      def __init__(self,\n",
        "                   embed_size,\n",
        "                   heads,\n",
        "                   forward_expansion,\n",
        "                   dropout,device\n",
        "                   ):\n",
        "          super(DecoderBlock,self).__init__()\n",
        "          self.attention = SelfAttention(embed_size,heads)\n",
        "          self.norm = nn.LayerNorm(embed_size)\n",
        "          self.trans_block = TransformerBlock(\n",
        "              embed_size,\n",
        "              heads,\n",
        "              dropout,\n",
        "              forward_expansion\n",
        "          )\n",
        "          self.dropout = nn.Dropout(embed_size)\n",
        "      def forward(self,x,value,key,src_mask,trg_mask):\n",
        "          attention = self.attention(x,x,x,trg_mask)\n",
        "          query = self.dropout(self.norm(attention + x))\n",
        "          out = self.trans_block(value,key,query,trg_mask)\n",
        "\n",
        "          return out"
      ],
      "execution_count": 5,
      "outputs": []
    },
    {
      "cell_type": "code",
      "metadata": {
        "id": "hnKauNpwyjvK"
      },
      "source": [
        "class Decoder(nn.Module):\n",
        "      def __init__(self,\n",
        "                 trg_vocab_size,\n",
        "                 embed_size,\n",
        "                 num_layers,\n",
        "                 heads,device,\n",
        "                 forward_expansion,\n",
        "                 dropout,\n",
        "                 max_length\n",
        "                 ):\n",
        "            super(Decoder,self).__init__()\n",
        "            self.device = device\n",
        "            self.word_embedding = nn.Embedding(trg_vocab_size,embed_size)\n",
        "            self.position_embedding = nn.Embedding(max_length,embed_size)\n",
        "            self.layers = nn.ModuleList(\n",
        "                [DecoderBlock(embed_size,heads,forward_expansion,dropout,device) for _ in range(num_layers)]\n",
        "            )\n",
        "            self.fc_out = nn.Linear(embed_size,trg_vocab_size)\n",
        "            self.dropout = nn.Dropout(dropout)\n",
        "      def forward(self,x,enc_out,src_mask,trg_mask):\n",
        "            N, seq_len = x.shape\n",
        "            positions = torch.arange(0,seq_length).expand(N,seq_len).to(self.device)\n",
        "            x = self.dropout(self.word_embedding(x)+self.position_embedding(positions))\n",
        "\n",
        "            for layer in self.layers:\n",
        "                x = layer(x,enc_out,enc_out,src_mask,trg_mask)\n",
        "            out = self.fc_out(x) "
      ],
      "execution_count": 6,
      "outputs": []
    },
    {
      "cell_type": "code",
      "metadata": {
        "id": "Xgck2jIAyjzY"
      },
      "source": [
        "class Transformer(nn.Module):\n",
        "      def __init(self,\n",
        "                 src_vocab_size,\n",
        "                 trg_vocab_size,\n",
        "                 src_pad_idx,\n",
        "                 trg_pad_idx,\n",
        "                 embed_size=512,\n",
        "                 num_layers=8,\n",
        "                 forward_expansion=4,\n",
        "                 heads=8,\n",
        "                 dropout=0,\n",
        "                 device='cuda',\n",
        "                 maxlength = 100\n",
        "                 ):\n",
        "          super(Transformer,self).__init__()\n",
        "          self.encoder = Encoder(src_vocab_size,\n",
        "                                 embed_size,\n",
        "                                 num_layers,\n",
        "                                 heads,\n",
        "                                 device,\n",
        "                                 forward_expansion,\n",
        "                                 dropout,\n",
        "                                 max_length)\n",
        "          self.decoder = Decoder(trg_vocab_size,\n",
        "                                 embed_size,\n",
        "                                 num_layers,\n",
        "                                 heads,\n",
        "                                 device,\n",
        "                                 forward_expansion,\n",
        "                                 dropout,\n",
        "                                 max_length)\n",
        "          self.src_pad_idx = src_pad_idx\n",
        "          self.trg_pad_idx = trg_pad_idx\n",
        "          self.device = device\n",
        "      def make_src_mask(self,src):\n",
        "          src_mask = (src is not self.src_pad_idx).unsqueeze(1).unsqueeze(2)\n",
        "          #(N,1,1,src_pad_idx)\n",
        "          return src_mask.to(self.device)\n",
        "      def make_trg_mask(self,trg):\n",
        "          N,trg_len = trg.shape\n",
        "          trg_mask = torch.ones((trg_len,trg_len)).expand(\n",
        "              N,1,trg_len,trg_len\n",
        "          )\n",
        "          return trg_mask\n",
        "      def forward(self,src,trg):\n",
        "          src_mask = self.make_src_mask(src)\n",
        "          trg_mask = self.make_trg_mask(trg)\n",
        "          enc_src = self.encoder(src,src_mask)\n",
        "          out = self.decoder(trg,enc_src,src_mask,trg_mask)\n",
        "          return out"
      ],
      "execution_count": 42,
      "outputs": []
    },
    {
      "cell_type": "code",
      "metadata": {
        "id": "Pbcp2ubVyj3b"
      },
      "source": [
        ""
      ],
      "execution_count": null,
      "outputs": []
    },
    {
      "cell_type": "code",
      "metadata": {
        "id": "gygGIN04yj7i"
      },
      "source": [
        ""
      ],
      "execution_count": null,
      "outputs": []
    },
    {
      "cell_type": "code",
      "metadata": {
        "id": "1Ry9txQuyj_F"
      },
      "source": [
        ""
      ],
      "execution_count": null,
      "outputs": []
    },
    {
      "cell_type": "code",
      "metadata": {
        "id": "sjLy9tBWykDj"
      },
      "source": [
        ""
      ],
      "execution_count": 40,
      "outputs": []
    }
  ]
}