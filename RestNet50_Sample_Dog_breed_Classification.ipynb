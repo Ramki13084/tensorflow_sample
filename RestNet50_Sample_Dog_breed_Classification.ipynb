{
  "nbformat": 4,
  "nbformat_minor": 0,
  "metadata": {
    "colab": {
      "name": "RestNet50-Sample_Dog_breed_Classification",
      "provenance": [],
      "collapsed_sections": [],
      "include_colab_link": true
    },
    "kernelspec": {
      "display_name": "Python 3",
      "name": "python3"
    }
  },
  "cells": [
    {
      "cell_type": "markdown",
      "metadata": {
        "id": "view-in-github",
        "colab_type": "text"
      },
      "source": [
        "<a href=\"https://colab.research.google.com/github/Ramki13084/tensorflow_sample/blob/main/RestNet50_Sample_Dog_breed_Classification.ipynb\" target=\"_parent\"><img src=\"https://colab.research.google.com/assets/colab-badge.svg\" alt=\"Open In Colab\"/></a>"
      ]
    },
    {
      "cell_type": "code",
      "metadata": {
        "id": "9MP9SSM4lF_T"
      },
      "source": [
        "import tensorflow as tf\n",
        "import numpy as np\n",
        "import matplotlib.pyplot as plt\n",
        "from tensorflow import keras\n",
        "from tensorflow.keras.layers import Input, Conv2D, MaxPooling2D, ZeroPadding2D,Flatten, BatchNormalization, AveragePooling2D, Dense, Activation, Add \n",
        "from tensorflow.keras.models import Model\n",
        "from tensorflow.keras import activations\n",
        "from tensorflow.keras.optimizers import Adam\n",
        "from tensorflow.keras.callbacks import EarlyStopping\n",
        "from tensorflow.keras.regularizers import l2\n"
      ],
      "execution_count": null,
      "outputs": []
    },
    {
      "cell_type": "code",
      "metadata": {
        "id": "uYgSISQ0lHb4"
      },
      "source": [
        "import shutil, os\n",
        "import numpy as np\n",
        "import pandas as pd\n",
        "from keras.preprocessing.image import ImageDataGenerator as Imgen\n",
        "from keras.preprocessing import image"
      ],
      "execution_count": null,
      "outputs": []
    },
    {
      "cell_type": "code",
      "metadata": {
        "id": "RTxRm8nhlHew",
        "colab": {
          "base_uri": "https://localhost:8080/",
          "height": 205
        },
        "outputId": "9615e5bf-a842-4b7e-a29f-4bcfaac267ca"
      },
      "source": [
        "labels = pd.read_csv(\"C:/Users/91709/dog-breed-identification/labels.csv\")\n",
        "sample = pd.read_csv('C:/Users/91709/dog-breed-identification/sample_submission.csv')\n",
        "labels.head()"
      ],
      "execution_count": null,
      "outputs": [
        {
          "output_type": "execute_result",
          "data": {
            "text/plain": [
              "                                 id             breed\n",
              "0  000bec180eb18c7604dcecc8fe0dba07       boston_bull\n",
              "1  001513dfcb2ffafc82cccf4d8bbaba97             dingo\n",
              "2  001cdf01b096e06d78e9e5112d419397          pekinese\n",
              "3  00214f311d5d2247d5dfe4fe24b2303d          bluetick\n",
              "4  0021f9ceb3235effd7fcde7f7538ed62  golden_retriever"
            ],
            "text/html": [
              "<div>\n",
              "<style scoped>\n",
              "    .dataframe tbody tr th:only-of-type {\n",
              "        vertical-align: middle;\n",
              "    }\n",
              "\n",
              "    .dataframe tbody tr th {\n",
              "        vertical-align: top;\n",
              "    }\n",
              "\n",
              "    .dataframe thead th {\n",
              "        text-align: right;\n",
              "    }\n",
              "</style>\n",
              "<table border=\"1\" class=\"dataframe\">\n",
              "  <thead>\n",
              "    <tr style=\"text-align: right;\">\n",
              "      <th></th>\n",
              "      <th>id</th>\n",
              "      <th>breed</th>\n",
              "    </tr>\n",
              "  </thead>\n",
              "  <tbody>\n",
              "    <tr>\n",
              "      <th>0</th>\n",
              "      <td>000bec180eb18c7604dcecc8fe0dba07</td>\n",
              "      <td>boston_bull</td>\n",
              "    </tr>\n",
              "    <tr>\n",
              "      <th>1</th>\n",
              "      <td>001513dfcb2ffafc82cccf4d8bbaba97</td>\n",
              "      <td>dingo</td>\n",
              "    </tr>\n",
              "    <tr>\n",
              "      <th>2</th>\n",
              "      <td>001cdf01b096e06d78e9e5112d419397</td>\n",
              "      <td>pekinese</td>\n",
              "    </tr>\n",
              "    <tr>\n",
              "      <th>3</th>\n",
              "      <td>00214f311d5d2247d5dfe4fe24b2303d</td>\n",
              "      <td>bluetick</td>\n",
              "    </tr>\n",
              "    <tr>\n",
              "      <th>4</th>\n",
              "      <td>0021f9ceb3235effd7fcde7f7538ed62</td>\n",
              "      <td>golden_retriever</td>\n",
              "    </tr>\n",
              "  </tbody>\n",
              "</table>\n",
              "</div>"
            ]
          },
          "metadata": {
            "tags": []
          },
          "execution_count": 44
        }
      ]
    },
    {
      "cell_type": "code",
      "metadata": {
        "id": "8nZOfqmzlHiM"
      },
      "source": [
        "def app_jpg(id):\n",
        "    return id+\".jpg\""
      ],
      "execution_count": null,
      "outputs": []
    },
    {
      "cell_type": "code",
      "metadata": {
        "id": "K9Y8zF6VlHlQ",
        "colab": {
          "base_uri": "https://localhost:8080/"
        },
        "outputId": "d55464c5-2a80-4a12-aba2-242a05ad84fc"
      },
      "source": [
        "labels['id'] = labels['id'].apply(app_jpg)\n",
        "labels['id']"
      ],
      "execution_count": null,
      "outputs": [
        {
          "output_type": "execute_result",
          "data": {
            "text/plain": [
              "0        000bec180eb18c7604dcecc8fe0dba07.jpg\n",
              "1        001513dfcb2ffafc82cccf4d8bbaba97.jpg\n",
              "2        001cdf01b096e06d78e9e5112d419397.jpg\n",
              "3        00214f311d5d2247d5dfe4fe24b2303d.jpg\n",
              "4        0021f9ceb3235effd7fcde7f7538ed62.jpg\n",
              "                         ...                 \n",
              "10217    ffd25009d635cfd16e793503ac5edef0.jpg\n",
              "10218    ffd3f636f7f379c51ba3648a9ff8254f.jpg\n",
              "10219    ffe2ca6c940cddfee68fa3cc6c63213f.jpg\n",
              "10220    ffe5f6d8e2bff356e9482a80a6e29aac.jpg\n",
              "10221    fff43b07992508bc822f33d8ffd902ae.jpg\n",
              "Name: id, Length: 10222, dtype: object"
            ]
          },
          "metadata": {
            "tags": []
          },
          "execution_count": 46
        }
      ]
    },
    {
      "cell_type": "code",
      "metadata": {
        "id": "pgVx-kBMlHoo",
        "colab": {
          "base_uri": "https://localhost:8080/"
        },
        "outputId": "ad3ffc24-4dbe-43cf-a446-7e4fe8e2bcfa"
      },
      "source": [
        "(unique, counts) = np.unique(labels['breed'], return_counts=True)\n",
        "print(unique,counts)"
      ],
      "execution_count": null,
      "outputs": [
        {
          "output_type": "stream",
          "text": [
            "['affenpinscher' 'afghan_hound' 'african_hunting_dog' 'airedale'\n",
            " 'american_staffordshire_terrier' 'appenzeller' 'australian_terrier'\n",
            " 'basenji' 'basset' 'beagle' 'bedlington_terrier' 'bernese_mountain_dog'\n",
            " 'black-and-tan_coonhound' 'blenheim_spaniel' 'bloodhound' 'bluetick'\n",
            " 'border_collie' 'border_terrier' 'borzoi' 'boston_bull'\n",
            " 'bouvier_des_flandres' 'boxer' 'brabancon_griffon' 'briard'\n",
            " 'brittany_spaniel' 'bull_mastiff' 'cairn' 'cardigan'\n",
            " 'chesapeake_bay_retriever' 'chihuahua' 'chow' 'clumber' 'cocker_spaniel'\n",
            " 'collie' 'curly-coated_retriever' 'dandie_dinmont' 'dhole' 'dingo'\n",
            " 'doberman' 'english_foxhound' 'english_setter' 'english_springer'\n",
            " 'entlebucher' 'eskimo_dog' 'flat-coated_retriever' 'french_bulldog'\n",
            " 'german_shepherd' 'german_short-haired_pointer' 'giant_schnauzer'\n",
            " 'golden_retriever' 'gordon_setter' 'great_dane' 'great_pyrenees'\n",
            " 'greater_swiss_mountain_dog' 'groenendael' 'ibizan_hound' 'irish_setter'\n",
            " 'irish_terrier' 'irish_water_spaniel' 'irish_wolfhound'\n",
            " 'italian_greyhound' 'japanese_spaniel' 'keeshond' 'kelpie'\n",
            " 'kerry_blue_terrier' 'komondor' 'kuvasz' 'labrador_retriever'\n",
            " 'lakeland_terrier' 'leonberg' 'lhasa' 'malamute' 'malinois' 'maltese_dog'\n",
            " 'mexican_hairless' 'miniature_pinscher' 'miniature_poodle'\n",
            " 'miniature_schnauzer' 'newfoundland' 'norfolk_terrier'\n",
            " 'norwegian_elkhound' 'norwich_terrier' 'old_english_sheepdog'\n",
            " 'otterhound' 'papillon' 'pekinese' 'pembroke' 'pomeranian' 'pug'\n",
            " 'redbone' 'rhodesian_ridgeback' 'rottweiler' 'saint_bernard' 'saluki'\n",
            " 'samoyed' 'schipperke' 'scotch_terrier' 'scottish_deerhound'\n",
            " 'sealyham_terrier' 'shetland_sheepdog' 'shih-tzu' 'siberian_husky'\n",
            " 'silky_terrier' 'soft-coated_wheaten_terrier' 'staffordshire_bullterrier'\n",
            " 'standard_poodle' 'standard_schnauzer' 'sussex_spaniel' 'tibetan_mastiff'\n",
            " 'tibetan_terrier' 'toy_poodle' 'toy_terrier' 'vizsla' 'walker_hound'\n",
            " 'weimaraner' 'welsh_springer_spaniel' 'west_highland_white_terrier'\n",
            " 'whippet' 'wire-haired_fox_terrier' 'yorkshire_terrier'] [ 80 116  86 107  74  78 102 110  82 105  89 114  77 102  85  85  72  91\n",
            "  75  87  86  75  67  66  73  75 106  76  83  71  93  80  74  87  72  89\n",
            "  76  80  74  86  83  75 115  66  72  70  69  75  69  67  81  75 111  82\n",
            "  82  91  88  82  78 101  92 105  81  86  82  67  71  84  99 106  90  81\n",
            "  73 117  80 102  79  78  91  83  95  78  87  69  96  75  92 111  94  72\n",
            "  88  76  84  99 109  86  82 126  88  76 112  95  90  71  79  79  72  78\n",
            "  69 107  80  79  70  69  85  79  81  95  82  82]\n"
          ],
          "name": "stdout"
        }
      ]
    },
    {
      "cell_type": "code",
      "metadata": {
        "id": "IuEWFdhBlHri",
        "colab": {
          "base_uri": "https://localhost:8080/"
        },
        "outputId": "66a198ed-3e7e-43e0-e9cc-402c84a67383"
      },
      "source": [
        "desired_breeds = ['beagle', 'chihuahua', 'doberman','french_bulldog', 'golden_retriever', 'malamute', 'pug', 'saint_bernard', 'scottish_deerhound','tibetan_mastiff']\n",
        "labels1 = labels[labels['breed'].isin(desired_breeds)]\n",
        "(unique, counts) = np.unique(labels1['breed'], return_counts=True)\n",
        "print(unique,counts)\n",
        "labels1.count\n",
        "os.chdir('C:/Users/91709/dog-breed-identification/')\n",
        "print(os.getcwd())\n"
      ],
      "execution_count": null,
      "outputs": [
        {
          "output_type": "stream",
          "text": [
            "['beagle' 'chihuahua' 'doberman' 'french_bulldog' 'golden_retriever'\n",
            " 'malamute' 'pug' 'saint_bernard' 'scottish_deerhound' 'tibetan_mastiff'] [105  71  74  70  67  81  94  84 126  69]\n",
            "C:\\Users\\91709\\dog-breed-identification\n"
          ],
          "name": "stdout"
        }
      ]
    },
    {
      "cell_type": "code",
      "metadata": {
        "id": "jEYa6nXf3s5B",
        "colab": {
          "base_uri": "https://localhost:8080/",
          "height": 216
        },
        "outputId": "70e09a47-4e92-40f0-f5ae-e451999bb05f"
      },
      "source": [
        "directory = \"sample_train\"\n",
        "  \n",
        "\n",
        "parent_dir = \"C:/Users/91709/dog-breed-identification/\"\n",
        "  \n",
        "# Path\n",
        "path = os.path.join(parent_dir, directory)\n",
        "  \n",
        "# Create the directory\n",
        "# 'GeeksForGeeks' in\n",
        "# '/home / User / Documents'\n",
        "os.mkdir(path)"
      ],
      "execution_count": null,
      "outputs": [
        {
          "output_type": "error",
          "ename": "FileExistsError",
          "evalue": "ignored",
          "traceback": [
            "\u001b[1;31m---------------------------------------------------------------------------\u001b[0m",
            "\u001b[1;31mFileExistsError\u001b[0m                           Traceback (most recent call last)",
            "\u001b[1;32m<ipython-input-49-888d4099d768>\u001b[0m in \u001b[0;36m<module>\u001b[1;34m\u001b[0m\n\u001b[0;32m     10\u001b[0m \u001b[1;31m# 'GeeksForGeeks' in\u001b[0m\u001b[1;33m\u001b[0m\u001b[1;33m\u001b[0m\u001b[1;33m\u001b[0m\u001b[0m\n\u001b[0;32m     11\u001b[0m \u001b[1;31m# '/home / User / Documents'\u001b[0m\u001b[1;33m\u001b[0m\u001b[1;33m\u001b[0m\u001b[1;33m\u001b[0m\u001b[0m\n\u001b[1;32m---> 12\u001b[1;33m \u001b[0mos\u001b[0m\u001b[1;33m.\u001b[0m\u001b[0mmkdir\u001b[0m\u001b[1;33m(\u001b[0m\u001b[0mpath\u001b[0m\u001b[1;33m)\u001b[0m\u001b[1;33m\u001b[0m\u001b[1;33m\u001b[0m\u001b[0m\n\u001b[0m",
            "\u001b[1;31mFileExistsError\u001b[0m: [WinError 183] Cannot create a file when that file already exists: 'C:/Users/91709/dog-breed-identification/sample_train'"
          ]
        }
      ]
    },
    {
      "cell_type": "code",
      "metadata": {
        "id": "HIXqBehu3QJR"
      },
      "source": [
        "labels1.to_csv('labels1.csv')"
      ],
      "execution_count": null,
      "outputs": []
    },
    {
      "cell_type": "code",
      "metadata": {
        "id": "A7LzO3VZ5FVK",
        "colab": {
          "base_uri": "https://localhost:8080/"
        },
        "outputId": "d2627e0c-0bb3-45b3-8435-43cb494a02d9"
      },
      "source": [
        "os.getcwd()"
      ],
      "execution_count": null,
      "outputs": [
        {
          "output_type": "execute_result",
          "data": {
            "text/plain": [
              "'C:\\\\Users\\\\91709\\\\dog-breed-identification'"
            ]
          },
          "metadata": {
            "tags": []
          },
          "execution_count": 54
        }
      ]
    },
    {
      "cell_type": "code",
      "metadata": {
        "id": "XJw3kOMPlHud"
      },
      "source": [
        "for f in labels1['id']:\n",
        "    shutil.copy('C:/Users/91709/dog-breed-identification/train/' + f, 'C:/Users/91709/dog-breed-identification/sample_train/')"
      ],
      "execution_count": null,
      "outputs": []
    },
    {
      "cell_type": "code",
      "metadata": {
        "id": "5VWCi2cYlH3j"
      },
      "source": [
        "def res_identity(x,filters):\n",
        "\n",
        "      x_skip =x\n",
        "      f1,f2 = filters\n",
        "\n",
        "        #first block \n",
        "      x = Conv2D(f1, kernel_size=(1, 1), strides=(1, 1), padding='valid', kernel_regularizer=l2(0.001))(x)\n",
        "      x = BatchNormalization()(x)\n",
        "      x = Activation(activations.relu)(x)\n",
        "\n",
        "      #second block # bottleneck (but size kept same with padding)\n",
        "      x = Conv2D(f1, kernel_size=(3, 3), strides=(1, 1), padding='same', kernel_regularizer=l2(0.001))(x)\n",
        "      x = BatchNormalization()(x)\n",
        "      x = Activation(activations.relu)(x)\n",
        "\n",
        "      # third block activation used after adding the input\n",
        "      x = Conv2D(f2, kernel_size=(1, 1), strides=(1, 1), padding='valid', kernel_regularizer=l2(0.001))(x)\n",
        "      x = BatchNormalization()(x)\n",
        "      # x = Activation(activations.relu)(x)\n",
        "\n",
        "      # add the input \n",
        "      x = Add()([x, x_skip])\n",
        "      x = Activation(activations.relu)(x)\n",
        "\n",
        "      return x"
      ],
      "execution_count": null,
      "outputs": []
    },
    {
      "cell_type": "code",
      "metadata": {
        "id": "jQXEEBTWlH6n"
      },
      "source": [
        "def res_conv(x, s, filters):\n",
        "  '''\n",
        "  here the input size changes''' \n",
        "  x_skip = x\n",
        "  f1, f2 = filters\n",
        "\n",
        "  # first block\n",
        "  x = Conv2D(f1, kernel_size=(1, 1), strides=(s, s), padding='valid', kernel_regularizer=l2(0.001))(x)\n",
        "  # when s = 2 then it is like downsizing the feature map\n",
        "  x = BatchNormalization()(x)\n",
        "  x = Activation(activations.relu)(x)\n",
        "\n",
        "  # second block\n",
        "  x = Conv2D(f1, kernel_size=(3, 3), strides=(1, 1), padding='same', kernel_regularizer=l2(0.001))(x)\n",
        "  x = BatchNormalization()(x)\n",
        "  x = Activation(activations.relu)(x)\n",
        "\n",
        "  #third block\n",
        "  x = Conv2D(f2, kernel_size=(1, 1), strides=(1, 1), padding='valid', kernel_regularizer=l2(0.001))(x)\n",
        "  x = BatchNormalization()(x)\n",
        "\n",
        "  # shortcut \n",
        "  x_skip = Conv2D(f2, kernel_size=(1, 1), strides=(s, s), padding='valid', kernel_regularizer=l2(0.001))(x_skip)\n",
        "  x_skip = BatchNormalization()(x_skip)\n",
        "\n",
        "  # add \n",
        "  x = Add()([x, x_skip])\n",
        "  x = Activation(activations.relu)(x)\n",
        "\n",
        "  return x"
      ],
      "execution_count": null,
      "outputs": []
    },
    {
      "cell_type": "code",
      "metadata": {
        "id": "UXlwfNuVlH91"
      },
      "source": [
        "def resnet50():\n",
        "\n",
        "  input_im = Input(shape=(train_im.shape[1], train_im.shape[2], train_im.shape[3])) # cifar 10 images size\n",
        "  x = ZeroPadding2D(padding=(3, 3))(input_im)\n",
        "\n",
        "  # 1st stage\n",
        "  # here we perform maxpooling, see the figure above\n",
        "\n",
        "  x = Conv2D(64, kernel_size=(7, 7), strides=(2, 2))(x)\n",
        "  x = BatchNormalization()(x)\n",
        "  x = Activation(activations.relu)(x)\n",
        "  x = MaxPooling2D((3, 3), strides=(2, 2))(x)\n",
        "\n",
        "  #2nd stage \n",
        "  # frm here on only conv block and identity block, no pooling\n",
        "\n",
        "  x = res_conv(x, s=1, filters=(64, 256))\n",
        "  x = res_identity(x, filters=(64, 256))\n",
        "  x = res_identity(x, filters=(64, 256))\n",
        "\n",
        "  # 3rd stage\n",
        "\n",
        "  x = res_conv(x, s=2, filters=(128, 512))\n",
        "  x = res_identity(x, filters=(128, 512))\n",
        "  x = res_identity(x, filters=(128, 512))\n",
        "  x = res_identity(x, filters=(128, 512))\n",
        "\n",
        "  # 4th stage\n",
        "\n",
        "  x = res_conv(x, s=2, filters=(256, 1024))\n",
        "  x = res_identity(x, filters=(256, 1024))\n",
        "  x = res_identity(x, filters=(256, 1024))\n",
        "  x = res_identity(x, filters=(256, 1024))\n",
        "  x = res_identity(x, filters=(256, 1024))\n",
        "  x = res_identity(x, filters=(256, 1024))\n",
        "\n",
        "  # 5th stage\n",
        "\n",
        "  x = res_conv(x, s=2, filters=(512, 2048))\n",
        "  x = res_identity(x, filters=(512, 2048))\n",
        "  x = res_identity(x, filters=(512, 2048))\n",
        "\n",
        "  # ends with average pooling and dense connection\n",
        "\n",
        "  x = AveragePooling2D((2, 2), padding='same')(x)\n",
        "\n",
        "  x = Flatten()(x)\n",
        "  x = Dense(len(class_types), activation='softmax', kernel_initializer='he_normal')(x) #multi-class\n",
        "\n",
        "  # define the model \n",
        "\n",
        "  model = Model(inputs=input_im, outputs=x, name='Resnet50')\n",
        "\n",
        "  return model"
      ],
      "execution_count": null,
      "outputs": []
    },
    {
      "cell_type": "code",
      "metadata": {
        "id": "9G5-YkF1lIAq"
      },
      "source": [
        ""
      ],
      "execution_count": null,
      "outputs": []
    },
    {
      "cell_type": "code",
      "metadata": {
        "id": "00-ZBAV8lID_"
      },
      "source": [
        ""
      ],
      "execution_count": null,
      "outputs": []
    },
    {
      "cell_type": "code",
      "metadata": {
        "id": "nHgK1HEZlIHl"
      },
      "source": [
        ""
      ],
      "execution_count": null,
      "outputs": []
    },
    {
      "cell_type": "code",
      "metadata": {
        "id": "B8stUfVV5Cx7"
      },
      "source": [
        ""
      ],
      "execution_count": null,
      "outputs": []
    }
  ]
}